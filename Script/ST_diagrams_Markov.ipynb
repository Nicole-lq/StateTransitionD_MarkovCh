{
 "cells": [
  {
   "cell_type": "markdown",
   "metadata": {},
   "source": [
    "# Markov Chain: State-transition diagram"
   ]
  },
  {
   "cell_type": "code",
   "execution_count": null,
   "metadata": {},
   "outputs": [],
   "source": [
    "# Libraries\n",
    "import pydot\n",
    "import matplotlib.pyplot as plt"
   ]
  },
  {
   "cell_type": "markdown",
   "metadata": {},
   "source": [
    "## State-transition diagram 1"
   ]
  },
  {
   "cell_type": "code",
   "execution_count": 80,
   "metadata": {},
   "outputs": [],
   "source": [
    "# Define states and transitions with probabilities\n",
    "transitions = {\n",
    "    (0, 0): 0.10,  # A → A\n",
    "    (0, 1): 0.90,  # A → B\n",
    "    (1, 0): 0.03,  # B → A\n",
    "    (1, 1): 0.97,  # B → B\n",
    "}\n",
    "\n",
    "# Create a graph using pydot\n",
    "graph = pydot.Dot(graph_type = 'digraph')\n",
    "\n",
    "# Add nodes to the diagram (states)\n",
    "for state in range(2):\n",
    "    graph.add_node(pydot.Node(f\"S{state}\", style = \"filled\", fillcolor = \"lightblue\"))\n",
    "\n",
    "# Add edges with transition probabilities\n",
    "for (start, end), prob in transitions.items():\n",
    "    if prob > 0:  # This include only transitions with probability greater than 0\n",
    "        graph.add_edge(pydot.Edge(f\"S{start}\", f\"S{end}\", label = f\"{prob:.2f}\", color = \"gray\"))\n",
    "\n",
    "# Set graph style\n",
    "graph.set_graph_defaults(rankdir = 'LR')\n",
    "\n",
    "# Save graph as SVG image\n",
    "graph.write_svg('diagram1.svg')\n"
   ]
  },
  {
   "cell_type": "markdown",
   "metadata": {},
   "source": [
    "## State-transition diagram 2"
   ]
  },
  {
   "cell_type": "code",
   "execution_count": 83,
   "metadata": {},
   "outputs": [],
   "source": [
    "# Define states and transitions with probabilities\n",
    "transitions = {\n",
    "    (0, 0): 0.1,  # Accounting → Accounting\n",
    "    (0, 1): 0.3,  # Accounting → Consulting\n",
    "    (0, 2): 0.2,  # Accounting → Division A\n",
    "    (0, 3): 0.2,  # Accounting → Division B\n",
    "    (0, 4): 0.2,  # Accounting → Division C\n",
    "    (1, 0): 0.3,  # Consulting → Accounting\n",
    "    (1, 1): 0.2,  # Consulting → Consulting\n",
    "    (1, 2): 0.3,  # Consulting → Division A\n",
    "    (1, 3): 0.0,  # Consulting → Division B\n",
    "    (1, 4): 0.2,  # Consulting → Division C\n",
    "    (2, 2): 1.0,  # Division A → Division A (Absorbing)\n",
    "    (3, 3): 1.0,  # Division B → Division B (Absorbing)\n",
    "    (4, 4): 1.0,  # Division C → Division C (Absorbing)\n",
    "}\n",
    "\n",
    "# Create a graph using pydot\n",
    "graph = pydot.Dot(graph_type='digraph')\n",
    "\n",
    "# Add nodes to the diagram (states)\n",
    "for state in range(5):\n",
    "    graph.add_node(pydot.Node(f\"E{state}\", style = \"filled\", fillcolor = \"lightblue\"))\n",
    "\n",
    "# Add edges with transition probabilities\n",
    "for (start, end), prob in transitions.items():\n",
    "    if prob > 0:  # This include only transitions with probability greater than 0\n",
    "        graph.add_edge(pydot.Edge(f\"E{start}\", f\"E{end}\", label = f\"{prob:.2f}\", color = \"gray\"))\n",
    "\n",
    "# Set graph style\n",
    "graph.set_graph_defaults(rankdir='TB')\n",
    "\n",
    "# Save graph as SVG image\n",
    "graph.write_svg('diagrama2.svg')\n"
   ]
  },
  {
   "cell_type": "markdown",
   "metadata": {},
   "source": [
    "## State-transition diagram 3"
   ]
  },
  {
   "cell_type": "code",
   "execution_count": 71,
   "metadata": {},
   "outputs": [
    {
     "data": {
      "text/plain": [
       "0"
      ]
     },
     "execution_count": 71,
     "metadata": {},
     "output_type": "execute_result"
    }
   ],
   "source": [
    "# Definir los estados y transiciones con probabilidades\n",
    "transitions = {\n",
    "    (0, 0): 0.5,  # S1 → S1\n",
    "    (0, 1): 0.3,  # S1 → S2\n",
    "    (0, 2): 0.2,  # S1 → S3\n",
    "    (1, 0): 0.2,  # S2 → S1\n",
    "    (1, 1): 0.6,  # S2 → S2\n",
    "    (1, 2): 0.2,  # S2 → S3\n",
    "    (2, 0): 0.1,  # S3 → S1\n",
    "    (2, 1): 0.3,  # S3 → S2\n",
    "    (2, 2): 0.6,  # S3 → S3\n",
    "}\n",
    "\n",
    "# Create a graph using pydot\n",
    "graph = pydot.Dot(graph_type='digraph')\n",
    "\n",
    "# Add nodes to the diagram (states)\n",
    "for state in range(3):\n",
    "    graph.add_node(pydot.Node(f\"E{state}\", style = \"filled\", fillcolor = \"lightblue\"))\n",
    "\n",
    "# Add edges with transition probabilities\n",
    "for (start, end), prob in transitions.items():\n",
    "    if prob > 0:  # This include only transitions with probability greater than 0\n",
    "        graph.add_edge(pydot.Edge(f\"E{start}\", f\"E{end}\", label = f\"{prob:.1f}\", color = \"gray\"))\n",
    "\n",
    "# Set graph style\n",
    "graph.set_graph_defaults(rankdir = 'LR')\n",
    "\n",
    "# Save graph as SVG image\n",
    "graph.write_svg('diagrama3.svg')\n",
    "\n",
    "\n"
   ]
  },
  {
   "cell_type": "markdown",
   "metadata": {},
   "source": [
    "## State-transition diagram 4"
   ]
  },
  {
   "cell_type": "code",
   "execution_count": 68,
   "metadata": {},
   "outputs": [
    {
     "data": {
      "text/plain": [
       "0"
      ]
     },
     "execution_count": 68,
     "metadata": {},
     "output_type": "execute_result"
    }
   ],
   "source": [
    "# Define states and transitions with probabilities\n",
    "transitions = {\n",
    "    (0, 0): 0.6,  # Low → Low\n",
    "    (0, 1): 0.4,  # Low → Satisfactory\n",
    "    (0, 2): 0.0,  # Low → Preferential\n",
    "    (1, 0): 0.1,  # Satisfactory → Low\n",
    "    (1, 1): 0.6,  # Satisfactory → Satisfactory\n",
    "    (1, 2): 0.3,  # Satisfactory → Preferential\n",
    "    (2, 0): 0.0,  # Preferential → Low\n",
    "    (2, 1): 0.2,  # Preferential → Satisfactory\n",
    "    (2, 2): 0.8   # Preferential → Preferential\n",
    "}\n",
    "\n",
    "\n",
    "# Create a graph using pydot\n",
    "graph = pydot.Dot(graph_type = 'digraph')\n",
    "\n",
    "# Add nodes to the diagram (states)\n",
    "for state in range(3):\n",
    "    graph.add_node(pydot.Node(f\"E{state}\", style = \"filled\", fillcolor = \"lightblue\"))\n",
    "\n",
    "# Add edges with transition probabilities\n",
    "for (start, end), prob in transitions.items():\n",
    "    if prob > 0:  # This include only transitions with probability greater than 0\n",
    "        graph.add_edge(pydot.Edge(f\"E{start}\", f\"E{end}\", label = f\"{prob:.1f}\", color = \"gray\"))\n",
    "    \n",
    "\n",
    "# Set graph style\n",
    "graph.set_graph_defaults(rankdir = 'LR')\n",
    "\n",
    "# Save graph as SVG image\n",
    "graph.write_svg('diagrama4.svg')\n",
    "\n",
    "\n"
   ]
  }
 ],
 "metadata": {
  "kernelspec": {
   "display_name": "Python 3",
   "language": "python",
   "name": "python3"
  },
  "language_info": {
   "codemirror_mode": {
    "name": "ipython",
    "version": 3
   },
   "file_extension": ".py",
   "mimetype": "text/x-python",
   "name": "python",
   "nbconvert_exporter": "python",
   "pygments_lexer": "ipython3",
   "version": "3.12.4"
  },
  "orig_nbformat": 4
 },
 "nbformat": 4,
 "nbformat_minor": 2
}
